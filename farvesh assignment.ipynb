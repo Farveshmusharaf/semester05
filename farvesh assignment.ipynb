{
 "cells": [
  {
   "cell_type": "code",
   "execution_count": 7,
   "id": "2bd30350-6af2-462d-ad4a-b3fea0b84573",
   "metadata": {},
   "outputs": [
    {
     "name": "stdout",
     "output_type": "stream",
     "text": [
      "original list: [1, 3, 4, 5, 6, 6, 50, 60]\n",
      "remove list: [1, 3, 4, 5, 6, 50, 60]\n"
     ]
    }
   ],
   "source": [
    "def delete(duplicate):\n",
    "    empty_list=[]\n",
    "    for i in list:\n",
    "        if i not in empty_list:\n",
    "            empty_list.append(i)\n",
    "    return empty_list\n",
    "list=[1,3,4,5,6,6,50,60]\n",
    "empty_list= delete(list)\n",
    "print(\"original list:\", list)\n",
    "print(\"remove list:\", empty_list)\n",
    "    "
   ]
  },
  {
   "cell_type": "code",
   "execution_count": null,
   "id": "8eca968e-3ea6-4dfe-8172-b679abda2f3e",
   "metadata": {},
   "outputs": [],
   "source": [
    "original list:"
   ]
  }
 ],
 "metadata": {
  "kernelspec": {
   "display_name": "Python 3 (ipykernel)",
   "language": "python",
   "name": "python3"
  },
  "language_info": {
   "codemirror_mode": {
    "name": "ipython",
    "version": 3
   },
   "file_extension": ".py",
   "mimetype": "text/x-python",
   "name": "python",
   "nbconvert_exporter": "python",
   "pygments_lexer": "ipython3",
   "version": "3.12.4"
  }
 },
 "nbformat": 4,
 "nbformat_minor": 5
}
